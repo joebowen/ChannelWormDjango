{
 "cells": [
  {
   "cell_type": "code",
   "execution_count": null,
   "metadata": {
    "collapsed": true
   },
   "outputs": [],
   "source": [
    "# gsarma and travs 5/2015\n",
    "# Doing some hello world testing with sciunit\n",
    "# notebook from rgerkin\n",
    "# http://nbviewer.ipython.org/github/scidash/neuronunit/blob/master/scratch.ipynb"
   ]
  },
  {
   "cell_type": "markdown",
   "metadata": {},
   "source": [
    "## Basic sciunit examples"
   ]
  },
  {
   "cell_type": "code",
   "execution_count": 1,
   "metadata": {
    "collapsed": true
   },
   "outputs": [],
   "source": [
    "import sciunit, sciunit.capabilities, sciunit.models, sciunit.scores"
   ]
  },
  {
   "cell_type": "code",
   "execution_count": 6,
   "metadata": {
    "collapsed": true
   },
   "outputs": [],
   "source": [
    "class EqualsTest(sciunit.Test):\n",
    "    \"\"\"Produces a boolean score if the model predicts \n",
    "    the same number as the observation.\"\"\"   \n",
    "    required_capabilities = (sciunit.capabilities.ProducesNumber,)\n",
    "    \n",
    "    def generate_prediction(self, model):\n",
    "        return model.produce_number()\n",
    "    \n",
    "    score_type = sciunit.scores.BooleanScore\n",
    "    def compute_score(self, observation, prediction):\n",
    "        return self.score_type(observation == prediction)"
   ]
  },
  {
   "cell_type": "code",
   "execution_count": 7,
   "metadata": {
    "collapsed": false
   },
   "outputs": [
    {
     "name": "stdout",
     "output_type": "stream",
     "text": [
      "EqualsTest (EqualsTest) EqualsTest (EqualsTest)\n"
     ]
    }
   ],
   "source": [
    "equals_one_test = EqualsTest(1)\n",
    "equals_two_test = EqualsTest(2)\n",
    "print equals_one_test, equals_two_test"
   ]
  },
  {
   "cell_type": "code",
   "execution_count": 8,
   "metadata": {
    "collapsed": false
   },
   "outputs": [
    {
     "name": "stdout",
     "output_type": "stream",
     "text": [
      "ConstModel({'constant': 1}) ConstModel({'constant': 2}) ConstModel({'constant': 3})\n"
     ]
    }
   ],
   "source": [
    "one_model = sciunit.models.ConstModel(1)\n",
    "two_model = sciunit.models.ConstModel(2)\n",
    "three_model = sciunit.models.ConstModel(3)\n",
    "print one_model, two_model, three_model"
   ]
  },
  {
   "cell_type": "code",
   "execution_count": 9,
   "metadata": {
    "collapsed": false
   },
   "outputs": [
    {
     "name": "stdout",
     "output_type": "stream",
     "text": [
      "Pass Fail\n"
     ]
    }
   ],
   "source": [
    "one_one_score = equals_one_test.judge(one_model)\n",
    "one_two_score = equals_two_test.judge(one_model)\n",
    "print one_one_score, one_two_score"
   ]
  },
  {
   "cell_type": "code",
   "execution_count": 10,
   "metadata": {
    "collapsed": false
   },
   "outputs": [
    {
     "name": "stdout",
     "output_type": "stream",
     "text": [
      "ConstModel({'constant': 1}) EqualsTest (EqualsTest)\n"
     ]
    }
   ],
   "source": [
    "print one_one_score.model, one_one_score.test"
   ]
  },
  {
   "cell_type": "code",
   "execution_count": 11,
   "metadata": {
    "collapsed": true
   },
   "outputs": [],
   "source": [
    "suite = sciunit.TestSuite(\"suite\", [equals_one_test, equals_two_test])"
   ]
  },
  {
   "cell_type": "code",
   "execution_count": 12,
   "metadata": {
    "collapsed": false
   },
   "outputs": [
    {
     "name": "stdout",
     "output_type": "stream",
     "text": [
      "(Pass, Fail, Fail)\n",
      "(Fail, Pass)\n"
     ]
    }
   ],
   "source": [
    "matrix = suite.judge([one_model, two_model, three_model])\n",
    "print matrix[equals_one_test]\n",
    "print matrix[two_model]"
   ]
  },
  {
   "cell_type": "code",
   "execution_count": 13,
   "metadata": {
    "collapsed": false
   },
   "outputs": [
    {
     "data": {
      "text/html": [
       "\n",
       "  \t<table>\n",
       "  \t  <thead><tr><th></th><th>EqualsTest (EqualsTest)</th> <th>EqualsTest (EqualsTest)</th></tr></thead>\n",
       "  \t  <tbody><tr><td>ConstModel({'constant': 1})</td><td>Pass</td> <td>Fail</td></tr> <tr><td>ConstModel({'constant': 2})</td><td>Fail</td> <td>Pass</td></tr> <tr><td>ConstModel({'constant': 3})</td><td>Fail</td> <td>Fail</td></tr></tbody>\n",
       "  \t</table>"
      ],
      "text/plain": [
       "<IPython.core.display.HTML object>"
      ]
     },
     "execution_count": 13,
     "metadata": {},
     "output_type": "execute_result"
    }
   ],
   "source": [
    "matrix.view()"
   ]
  },
  {
   "cell_type": "markdown",
   "metadata": {},
   "source": [
    "## Misc jnml things"
   ]
  },
  {
   "cell_type": "code",
   "execution_count": 2,
   "metadata": {
    "collapsed": false
   },
   "outputs": [],
   "source": [
    "%load_ext autoreload\n",
    "%autoreload 2"
   ]
  },
  {
   "cell_type": "code",
   "execution_count": 3,
   "metadata": {
    "collapsed": false
   },
   "outputs": [],
   "source": [
    "%matplotlib inline\n",
    "import matplotlib.pyplot as plt"
   ]
  },
  {
   "cell_type": "code",
   "execution_count": 4,
   "metadata": {
    "collapsed": false
   },
   "outputs": [
    {
     "ename": "ImportError",
     "evalue": "No module named nml.jnml",
     "output_type": "error",
     "traceback": [
      "\u001b[0;31m---------------------------------------------------------------------------\u001b[0m",
      "\u001b[0;31mImportError\u001b[0m                               Traceback (most recent call last)",
      "\u001b[0;32m<ipython-input-4-9aff5bb2858e>\u001b[0m in \u001b[0;36m<module>\u001b[0;34m()\u001b[0m\n\u001b[0;32m----> 1\u001b[0;31m \u001b[0;32mfrom\u001b[0m \u001b[0mnml\u001b[0m\u001b[0;34m.\u001b[0m\u001b[0mjnml\u001b[0m \u001b[0;32mimport\u001b[0m \u001b[0;34m*\u001b[0m\u001b[0;34m\u001b[0m\u001b[0m\n\u001b[0m",
      "\u001b[0;31mImportError\u001b[0m: No module named nml.jnml"
     ]
    }
   ],
   "source": [
    "from nml.jnml import *"
   ]
  },
  {
   "cell_type": "code",
   "execution_count": 1,
   "metadata": {
    "collapsed": false
   },
   "outputs": [
    {
     "name": "stdout",
     "output_type": "stream",
     "text": [
      "\n",
      "\n",
      "Checking channel k_fast\n",
      "Written generated LEMS file to LEMS_Test_k_fast.xml\n",
      "\n",
      "Parsing and resolving model: LEMS_Test_k_fast.xml\n",
      "Building simulation\n",
      "Running simulation\n",
      "Processing results\n",
      "Going to save 4001x1 data points to file k_fast.rampV.lems.dat\n",
      "Going to save 4001x1 data points to file i_65.lems.dat\n",
      "Going to save 4001x1 data points to file k_fast.p.tau.lems.dat\n",
      "Going to save 4001x1 data points to file k_fast.q.tau.lems.dat\n",
      "Going to save 4001x1 data points to file k_fast.p.inf.lems.dat\n",
      "Going to save 4001x1 data points to file i_55.lems.dat\n",
      "Going to save 4001x1 data points to file k_fast.q.inf.lems.dat\n",
      "Going to save 4001x1 data points to file i_75.lems.dat\n"
     ]
    }
   ],
   "source": [
    "run nml/jnml"
   ]
  },
  {
   "cell_type": "code",
   "execution_count": 169,
   "metadata": {
    "collapsed": false
   },
   "outputs": [],
   "source": [
    "cols = load_dat('i_65.lems')"
   ]
  },
  {
   "cell_type": "code",
   "execution_count": 170,
   "metadata": {
    "collapsed": false
   },
   "outputs": [
    {
     "data": {
      "text/plain": [
       "[<matplotlib.lines.Line2D at 0x10a6e33c8>]"
      ]
     },
     "execution_count": 170,
     "metadata": {},
     "output_type": "execute_result"
    },
    {
     "data": {
      "image/png": "[encoded data removed]",
      "text/plain": [
       "<matplotlib.figure.Figure at 0x108d01748>"
      ]
     },
     "metadata": {},
     "output_type": "display_data"
    }
   ],
   "source": [
    "plt.plot(cols[0],cols[1])"
   ]
  },
  {
   "cell_type": "code",
   "execution_count": 190,
   "metadata": {
    "collapsed": false
   },
   "outputs": [],
   "source": [
    "muscle_model_xml = os.path.join(OPENWORM_HOME,'muscle_model/NeuroML2/LEMS_NeuronMuscle.xml')\n",
    "ca_boyle_nml = os.path.join(OPENWORM_HOME,'muscle_model/NeuroML2/ca_boyle.channel.nml')"
   ]
  },
  {
   "cell_type": "code",
   "execution_count": 137,
   "metadata": {
    "collapsed": false
   },
   "outputs": [
    {
     "data": {
      "text/plain": [
       "[\"b' jNeuroML v0.5.2\",\n",
       " 'Loading: /Users/rgerkin/Dropbox/dev/muscle_model/NeuroML2/LEMS_NeuronMuscle.xml with jLEMS, NO GUI mode...',\n",
       " 'INFO Jan 28,2015 16:27  (INFO) Reading from: /Users/rgerkin/Dropbox/dev/muscle_model/NeuroML2/LEMS_NeuronMuscle.xml',\n",
       " 'WARNING Jan 28,2015 16:27  (WARNING) No internal variable is linked to the exposure: iDensity for ComponentType channelDensityNonUniform at: org.lemsml.jlems.core.type.dynamics.Dynamics.realResolve(Dynamics.java:270)',\n",
       " 'WARNING Jan 28,2015 16:27  (WARNING) No internal variable is linked to the exposure: iDensity for ComponentType channelDensityNonUniformNernst at: ',\n",
       " 'WARNING Jan 28,2015 16:27  (WARNING) Unused attribute in Component(id=CaPool type=fixedFactorConcentrationModel): XMLAttribute(ion, ca)  at: org.lemsml.jlems.core.type.Component.resolve(Component.java:502)',\n",
       " 'INFO Jan 28,2015 16:27  (INFO) Optional path variable is absent PathDerivedVariable{varname=rateScale, path=q10Settings/q10,  func=multiply, tgtvar=q10}',\n",
       " 'INFO Jan 28,2015 16:27  (INFO) Optional path variable is absent PathDerivedVariable{varname=rateScale, path=q10Settings/q10,  func=multiply, tgtvar=q10}',\n",
       " 'INFO Jan 28,2015 16:27  (INFO) Optional path variable is absent PathDerivedVariable{varname=rateScale, path=q10Settings/q10,  func=multiply, tgtvar=q10}',\n",
       " 'INFO Jan 28,2015 16:27  (INFO) Optional path variable is absent PathDerivedVariable{varname=rateScale, path=q10Settings/q10,  func=multiply, tgtvar=q10}',\n",
       " 'INFO Jan 28,2015 16:27  (INFO) Optional path variable is absent PathDerivedVariable{varname=rateScale, path=q10Settings/q10,  func=multiply, tgtvar=q10}',\n",
       " 'INFO Jan 28,2015 16:28  (INFO) Finished 10000 steps',\n",
       " 'INFO Jan 28,2015 16:28  (INFO) Written the file /Users/rgerkin/Dropbox/dev/neuronunit/./nm_v.dat 319513',\n",
       " 'INFO Jan 28,2015 16:28  (INFO) Written the file /Users/rgerkin/Dropbox/dev/neuronunit/./nm_conc.dat 207956',\n",
       " 'INFO Jan 28,2015 16:28  (INFO) Finished reading, building, running and displaying LEMS model',\n",
       " \"'\"]"
      ]
     },
     "execution_count": 137,
     "metadata": {},
     "output_type": "execute_result"
    }
   ],
   "source": [
    "run_lems(muscle_model_xml)"
   ]
  },
  {
   "cell_type": "code",
   "execution_count": 171,
   "metadata": {
    "collapsed": false
   },
   "outputs": [],
   "source": [
    "cols = load_dat('nm_v')"
   ]
  },
  {
   "cell_type": "code",
   "execution_count": 179,
   "metadata": {
    "collapsed": false
   },
   "outputs": [
    {
     "data": {
      "text/plain": [
       "<matplotlib.legend.Legend at 0x10acf27b8>"
      ]
     },
     "execution_count": 179,
     "metadata": {},
     "output_type": "execute_result"
    },
    {
     "data": {
      "image/png": "[encoded data removed]",
      "text/plain": [
       "<matplotlib.figure.Figure at 0x10aa00d68>"
      ]
     },
     "metadata": {},
     "output_type": "display_data"
    }
   ],
   "source": [
    "plt.plot(cols[0],cols[1],label='Neuron')\n",
    "plt.plot(cols[0],cols[2],label='Muscle')\n",
    "plt.xlabel('Time (s)')\n",
    "plt.ylabel('Vm (V)')\n",
    "plt.legend()"
   ]
  },
  {
   "cell_type": "code",
   "execution_count": 226,
   "metadata": {
    "collapsed": false
   },
   "outputs": [
    {
     "name": "stdout",
     "output_type": "stream",
     "text": [
      "Checking channel ca_boyle\n",
      "Written generated LEMS file to LEMS_Test_ca_boyle.xml\n",
      "\n",
      "Ran LEMS file LEMS_Test_ca_boyle.xml\n"
     ]
    }
   ],
   "source": [
    "run_nml(ca_boyle_nml,'NML2ChannelAnalyse',channelId='ca_boyle',\n",
    "        temperature=34,\n",
    "        minV=-55,\n",
    "        maxV=80,\n",
    "        duration=600,\n",
    "        clampBaseVoltage=-55,\n",
    "        clampDuration=580,\n",
    "        stepTargetVoltage=10,\n",
    "        erev=50,\n",
    "        caConc=0.001)"
   ]
  },
  {
   "cell_type": "code",
   "execution_count": 227,
   "metadata": {
    "collapsed": false
   },
   "outputs": [
    {
     "name": "stdout",
     "output_type": "stream",
     "text": [
      "i_15.lems.dat     i_5.lems.dat      i_min15.lems.dat  i_min5.lems.dat\r\n",
      "i_25.lems.dat     i_55.lems.dat     i_min25.lems.dat  i_min55.lems.dat\r\n",
      "i_35.lems.dat     i_65.lems.dat     i_min35.lems.dat\r\n",
      "i_45.lems.dat     i_75.lems.dat     i_min45.lems.dat\r\n"
     ]
    }
   ],
   "source": [
    "ls i*.dat"
   ]
  },
  {
   "cell_type": "code",
   "execution_count": 182,
   "metadata": {
    "collapsed": false
   },
   "outputs": [],
   "source": [
    "from BlueBrainProjectShowcase.Channelpedia import iv_analyse"
   ]
  },
  {
   "cell_type": "code",
   "execution_count": 228,
   "metadata": {
    "collapsed": false
   },
   "outputs": [
    {
     "name": "stdout",
     "output_type": "stream",
     "text": [
      "voltage (mV)   i_lowest (A)   i_highest (A)   i_peak (A)\n",
      "         -55   1.695952E-19   1.695952E-19   1.695952E-19\n",
      "         -45   5.641766E-20   5.690491E-18   5.690491E-18\n",
      "         -35   3.186363E-20   1.099339E-16   1.099339E-16\n",
      "         -25   2.333611E-20   1.815811E-15   1.815811E-15\n",
      "         -15   2.501452E-20   2.392100E-14   2.392100E-14\n",
      "          -5   5.160191E-20   1.712388E-13   1.712388E-13\n",
      "           5   7.328298E-21   4.449544E-13   4.449544E-13\n",
      "          15   2.845650E-22   5.873982E-13   5.873982E-13\n",
      "          25   1.797050E-24   3.912675E-13   3.912675E-13\n",
      "          35   6.681011E-24   2.401117E-13   2.401117E-13\n",
      "          45   3.009079E-24   8.044969E-14   8.044969E-14\n",
      "          55  -8.054445E-14   1.807896E-14  -8.054445E-14\n",
      "          65  -2.416984E-13   1.639105E-14  -2.416984E-13\n",
      "          75  -4.028553E-13   1.615943E-14  -4.028553E-13\n"
     ]
    }
   ],
   "source": [
    "v,_,_,i_peak = iv_analyse.main(plot=False)"
   ]
  },
  {
   "cell_type": "code",
   "execution_count": 240,
   "metadata": {
    "collapsed": false
   },
   "outputs": [
    {
     "data": {
      "text/plain": [
       "<matplotlib.legend.Legend at 0x10cac6080>"
      ]
     },
     "execution_count": 240,
     "metadata": {},
     "output_type": "execute_result"
    },
    {
     "data": {
      "image/png": "[encoded data removed]",
      "text/plain": [
       "<matplotlib.figure.Figure at 0x10caa4d68>"
      ]
     },
     "metadata": {},
     "output_type": "display_data"
    }
   ],
   "source": [
    "Vs = np.arange(-55,85,10)\n",
    "for V in Vs:\n",
    "    file_name = ('i_%d.lems' % V).replace('-','min')\n",
    "    cols = load_dat(file_name)\n",
    "    plt.plot(cols[0],cols[1],label='V = %d' % V)\n",
    "plt.xlabel('Time (s)')\n",
    "plt.ylabel('I (nA)')\n",
    "plt.xlim(0,0.02)\n",
    "plt.legend()"
   ]
  },
  {
   "cell_type": "code",
   "execution_count": 241,
   "metadata": {
    "collapsed": false
   },
   "outputs": [
    {
     "data": {
      "text/plain": [
       "[<matplotlib.lines.Line2D at 0x10cda9358>]"
      ]
     },
     "execution_count": 241,
     "metadata": {},
     "output_type": "execute_result"
    },
    {
     "data": {
      "image/png": "[encoded data removed]",
      "text/plain": [
       "<matplotlib.figure.Figure at 0x10c832470>"
      ]
     },
     "metadata": {},
     "output_type": "display_data"
    }
   ],
   "source": [
    "capacitance = 1e-13\n",
    "plt.plot(v,-np.array(i_peak)/capacitance)"
   ]
  },
  {
   "cell_type": "code",
   "execution_count": null,
   "metadata": {
    "collapsed": false
   },
   "outputs": [],
   "source": []
  }
 ],
 "metadata": {
  "kernelspec": {
   "display_name": "Python 2",
   "language": "python",
   "name": "python2"
  },
  "language_info": {
   "codemirror_mode": {
    "name": "ipython",
    "version": 2
   },
   "file_extension": ".py",
   "mimetype": "text/x-python",
   "name": "python",
   "nbconvert_exporter": "python",
   "pygments_lexer": "ipython2",
   "version": "2.7.9"
  }
 },
 "nbformat": 4,
 "nbformat_minor": 0
}
